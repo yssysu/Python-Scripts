{
 "cells": [
  {
   "cell_type": "code",
   "execution_count": null,
   "metadata": {},
   "outputs": [],
   "source": [
    "# 导入相关的库\n",
    "from helium import *"
   ]
  },
  {
   "cell_type": "code",
   "execution_count": 31,
   "metadata": {},
   "outputs": [
    {
     "data": {
      "text/plain": [
       "<selenium.webdriver.chrome.webdriver.WebDriver (session=\"f3cbb4c2af1bfed7c1d400b98af83484\")>"
      ]
     },
     "execution_count": 31,
     "metadata": {},
     "output_type": "execute_result"
    }
   ],
   "source": [
    "# 打开浏览器\n",
    "start_chrome(\"https://tieba.baidu.com/\")"
   ]
  },
  {
   "cell_type": "code",
   "execution_count": 32,
   "metadata": {},
   "outputs": [],
   "source": [
    "# 选择帐号密码登录\n",
    "click(S('p#TANGRAM__PSP_4__footerULoginBtn.tang-pass-footerBarULogin.pass-link'))"
   ]
  },
  {
   "cell_type": "code",
   "execution_count": null,
   "metadata": {},
   "outputs": [],
   "source": [
    "# 填写帐号密码\n",
    "write(\"your number\",into=\"手机号/用户名/邮箱\")\n",
    "write(\"yours\",into=\"密码\")\n",
    "click(S('input#TANGRAM__PSP_4__submit.pass-button.pass-button-submit'))"
   ]
  },
  {
   "cell_type": "code",
   "execution_count": 95,
   "metadata": {},
   "outputs": [],
   "source": [
    "# 进入主页\n",
    "click(S('img.head_img'))"
   ]
  },
  {
   "cell_type": "code",
   "execution_count": 96,
   "metadata": {},
   "outputs": [],
   "source": [
    "# 点击获取更多，得到所有的关注的吧\n",
    "click(S('span.more.u-f-item.j_show_more_forum'))"
   ]
  },
  {
   "cell_type": "code",
   "execution_count": 97,
   "metadata": {},
   "outputs": [
    {
     "name": "stdout",
     "output_type": "stream",
     "text": [
      "当前页面的链接是: https://tieba.baidu.com/home/main?id=tb.1.cf60c939.e804C6zpJcNBoWNVq2Pz6g?t=1740246768&fr=index\n"
     ]
    }
   ],
   "source": [
    "# 获取主页的链接\n",
    "home_page = get_driver().current_url\n",
    "print(f\"当前页面的链接是: {home_page}\")\n"
   ]
  },
  {
   "cell_type": "code",
   "execution_count": 98,
   "metadata": {},
   "outputs": [
    {
     "name": "stdout",
     "output_type": "stream",
     "text": [
      "未签到的贴吧数量: 18\n",
      "吧未签到，fid: 167796\n",
      "吧未签到，fid: 427196\n",
      "吧未签到，fid: 600979\n",
      "吧未签到，fid: 464009\n",
      "matlab吧未签到，fid: 9256\n",
      "novelai吧未签到，fid: 27910301\n",
      "ow吧未签到，fid: 959584\n",
      "pr吧未签到，fid: 659507\n",
      "qbittorrent吧未签到，fid: 12679150\n",
      "terraria吧未签到，fid: 325654\n",
      "word吧未签到，fid: 10750\n",
      "司辰之书吧未签到，fid: 27948099\n",
      "图吧未签到，fid: 136\n",
      "天堂鸡汤吧未签到，fid: 27782931\n",
      "孙笑川吧未签到，fid: 21841105\n",
      "守望先锋吧未签到，fid: 15965047\n",
      "巫师三吧未签到，fid: 9747232\n",
      "弱智吧未签到，fid: 272685\n"
     ]
    }
   ],
   "source": [
    "# 获取所有未签到的贴吧链接\n",
    "unsign_links = find_all(S('a.u-f-item.unsign'))  # 筛选未签到的贴吧\n",
    "print(f\"未签到的贴吧数量: {len(unsign_links)}\")\n",
    "\n",
    "unsign_fid = []\n",
    "unsign_title = []\n",
    "# 遍历每个未签到的贴吧\n",
    "for link in unsign_links:\n",
    "    try:\n",
    "        # 获取链接的 title 属性\n",
    "        tieba_fid = link.web_element.get_attribute('data-fid') if link.web_element else \"id-fid未知\"\n",
    "        title = link.web_element.get_attribute('title') if link.web_element else \"贴吧标题未知\"\n",
    "        print(f\"{title}吧未签到，fid: {tieba_fid}\")\n",
    "        unsign_fid.append(tieba_fid)\n",
    "        unsign_title.append(title)\n",
    "    except Exception as e:\n",
    "        print(f\"获取fid失败: {e}\")"
   ]
  },
  {
   "cell_type": "code",
   "execution_count": null,
   "metadata": {},
   "outputs": [
    {
     "name": "stdout",
     "output_type": "stream",
     "text": [
      "进入  吧...\n",
      " 签到按钮不存在\n",
      "返回主页成功\n",
      "进入  吧...\n",
      " 签到按钮存在，完成签到\n",
      "返回主页成功\n",
      "进入  吧...\n",
      " 签到按钮存在，完成签到\n",
      "返回主页成功\n",
      "进入  吧...\n",
      " 签到按钮存在，完成签到\n",
      "返回主页成功\n",
      "进入 matlab 吧...\n",
      "matlab 签到按钮存在，完成签到\n",
      "返回主页成功\n",
      "进入 novelai 吧...\n",
      "novelai 签到按钮存在，完成签到\n",
      "返回主页成功\n",
      "进入 ow 吧...\n",
      "ow 签到按钮存在，完成签到\n",
      "返回主页成功\n",
      "进入 pr 吧...\n",
      "pr 签到按钮存在，完成签到\n",
      "返回主页成功\n",
      "进入 qbittorrent 吧...\n",
      "qbittorrent 签到按钮存在，完成签到\n",
      "返回主页成功\n",
      "进入 terraria 吧...\n",
      "terraria 签到按钮存在，完成签到\n",
      "返回主页成功\n",
      "进入 word 吧...\n",
      "word 签到按钮存在，完成签到\n",
      "返回主页成功\n",
      "进入 司辰之书 吧...\n",
      "司辰之书 签到按钮存在，完成签到\n",
      "返回主页成功\n",
      "进入 图 吧...\n",
      "图 签到按钮存在，完成签到\n",
      "返回主页成功\n",
      "进入 天堂鸡汤 吧...\n",
      "天堂鸡汤 签到按钮存在，完成签到\n",
      "返回主页成功\n",
      "进入 孙笑川 吧...\n",
      "孙笑川 签到按钮存在，完成签到\n",
      "返回主页成功\n",
      "进入 守望先锋 吧...\n",
      "守望先锋 签到按钮存在，完成签到\n",
      "返回主页成功\n",
      "进入 巫师三 吧...\n",
      "巫师三 签到按钮存在，完成签到\n",
      "返回主页成功\n",
      "进入 弱智 吧...\n",
      "弱智 签到按钮存在，完成签到\n",
      "返回主页成功\n"
     ]
    }
   ],
   "source": [
    "# 执行签到操作\n",
    "print(\"开始签到操作...\")\n",
    "for i in range(len(unsign_fid)):\n",
    "    try:\n",
    "        # 点击未签到贴吧的链接\n",
    "        print(f\"进入 {unsign_title[i]} 吧...\")\n",
    "        click(S(f'a[data-fid=\"{unsign_fid[i]}\"]'))\n",
    "\n",
    "        # 检查并点击签到按钮\n",
    "        if S('a.j_signbtn.sign_btn_bright.j_cansign').exists():\n",
    "            print(f\"{unsign_title[i]} 签到按钮存在，完成签到\")\n",
    "            click(S('a.j_signbtn.sign_btn_bright.j_cansign'))\n",
    "        else:\n",
    "            print(f\"{unsign_title[i]} 签到按钮不存在\")\n",
    "\n",
    "        # 返回主页\n",
    "        go_to(home_page)\n",
    "        print(\"返回主页成功\")\n",
    "\n",
    "        # 点击“更多”按钮，确保可以加载更多贴吧\n",
    "        click(S('span.more.u-f-item.j_show_more_forum'))\n",
    "    except Exception as e:\n",
    "        print(f\"在 {unsign_title[i]} 吧签到时发生错误: {e}\")\n",
    "print(\"签到操作完成\")"
   ]
  },
  {
   "cell_type": "code",
   "execution_count": null,
   "metadata": {},
   "outputs": [
    {
     "ename": "NameError",
     "evalue": "name 'kill_browser' is not defined",
     "output_type": "error",
     "traceback": [
      "\u001b[0;31m---------------------------------------------------------------------------\u001b[0m",
      "\u001b[0;31mNameError\u001b[0m                                 Traceback (most recent call last)",
      "Cell \u001b[0;32mIn[1], line 1\u001b[0m\n\u001b[0;32m----> 1\u001b[0m \u001b[43mkill_browser\u001b[49m()\n",
      "\u001b[0;31mNameError\u001b[0m: name 'kill_browser' is not defined"
     ]
    },
    {
     "ename": "",
     "evalue": "",
     "output_type": "error",
     "traceback": [
      "\u001b[1;31m在当前单元格或上一个单元格中执行代码时 Kernel 崩溃。\n",
      "\u001b[1;31m请查看单元格中的代码，以确定故障的可能原因。\n",
      "\u001b[1;31m单击<a href='https://aka.ms/vscodeJupyterKernelCrash'>此处</a>了解详细信息。\n",
      "\u001b[1;31m有关更多详细信息，请查看 Jupyter <a href='command:jupyter.viewOutput'>log</a>。"
     ]
    }
   ],
   "source": [
    "kill_browser()"
   ]
  }
 ],
 "metadata": {
  "kernelspec": {
   "display_name": "Helium",
   "language": "python",
   "name": "python3"
  },
  "language_info": {
   "codemirror_mode": {
    "name": "ipython",
    "version": 3
   },
   "file_extension": ".py",
   "mimetype": "text/x-python",
   "name": "python",
   "nbconvert_exporter": "python",
   "pygments_lexer": "ipython3",
   "version": "3.9.21"
  }
 },
 "nbformat": 4,
 "nbformat_minor": 2
}

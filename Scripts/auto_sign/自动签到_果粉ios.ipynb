{
 "cells": [
  {
   "cell_type": "code",
   "execution_count": 2,
   "metadata": {},
   "outputs": [],
   "source": [
    "# 导入相关的库\n",
    "from helium import *\n",
    "import time"
   ]
  },
  {
   "cell_type": "code",
   "execution_count": 11,
   "metadata": {},
   "outputs": [
    {
     "data": {
      "text/plain": [
       "<selenium.webdriver.chrome.webdriver.WebDriver (session=\"85d8794069757011c4000d3f226d7022\")>"
      ]
     },
     "execution_count": 11,
     "metadata": {},
     "output_type": "execute_result"
    }
   ],
   "source": [
    "# 打开浏览器\n",
    "start_chrome(\"https://www.gzhappla.com/login/?r=https%3A%2F%2Fwww.gzhappla.com%2F\")"
   ]
  },
  {
   "cell_type": "code",
   "execution_count": null,
   "metadata": {},
   "outputs": [],
   "source": [
    "# 根据个人选择，选择微信登录或者QQ登录\n",
    "click(S('a.weixin_btn'))\n",
    "# click(S('a.qq_btn'))"
   ]
  },
  {
   "cell_type": "code",
   "execution_count": null,
   "metadata": {},
   "outputs": [],
   "source": [
    "# 经过测试，输入密码这一方式会被QQ拦截，会警告登录有风险\n",
    "# click(S('a#switcher_plogin.link'))"
   ]
  },
  {
   "cell_type": "code",
   "execution_count": null,
   "metadata": {},
   "outputs": [],
   "source": [
    "# write('***', into='支持QQ号/邮箱/手机号登录')\n",
    "# write('***', into='请输入密码')"
   ]
  },
  {
   "cell_type": "code",
   "execution_count": null,
   "metadata": {},
   "outputs": [],
   "source": [
    "# click(S('input#login_button.btn'))"
   ]
  },
  {
   "cell_type": "code",
   "execution_count": 5,
   "metadata": {},
   "outputs": [
    {
     "name": "stdout",
     "output_type": "stream",
     "text": [
      "请扫描二维码登录\n"
     ]
    }
   ],
   "source": [
    "# 该网站不支持自动登录，需要手动扫码\n",
    "print(\"请扫描二维码登录\")\n",
    "# 等待登录\n",
    "time.sleep(10)"
   ]
  },
  {
   "cell_type": "code",
   "execution_count": 6,
   "metadata": {},
   "outputs": [],
   "source": [
    "# 点击关闭按钮\n",
    "click(S('i.pps-icon.pps-icon-close-clear'))"
   ]
  },
  {
   "cell_type": "code",
   "execution_count": 7,
   "metadata": {},
   "outputs": [],
   "source": [
    "# 点击头像\n",
    "click(S('div.rlogin.reg_hre_btn.logininbox'))"
   ]
  },
  {
   "cell_type": "code",
   "execution_count": null,
   "metadata": {},
   "outputs": [],
   "source": [
    "# 执行签到操作\n",
    "click(S('a.meiriqiandao'))"
   ]
  },
  {
   "cell_type": "code",
   "execution_count": null,
   "metadata": {},
   "outputs": [],
   "source": [
    "# 点击确定  \n",
    "click(S('a.sgBtn.ok'))"
   ]
  },
  {
   "cell_type": "code",
   "execution_count": null,
   "metadata": {},
   "outputs": [],
   "source": [
    "# 关闭程序\n",
    "kill_browser()"
   ]
  }
 ],
 "metadata": {
  "kernelspec": {
   "display_name": "Helium",
   "language": "python",
   "name": "python3"
  },
  "language_info": {
   "codemirror_mode": {
    "name": "ipython",
    "version": 3
   },
   "file_extension": ".py",
   "mimetype": "text/x-python",
   "name": "python",
   "nbconvert_exporter": "python",
   "pygments_lexer": "ipython3",
   "version": "3.9.21"
  }
 },
 "nbformat": 4,
 "nbformat_minor": 2
}
